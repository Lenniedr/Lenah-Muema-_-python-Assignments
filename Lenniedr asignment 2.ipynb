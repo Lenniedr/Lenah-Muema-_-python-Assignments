{
 "cells": [
  {
   "cell_type": "markdown",
   "metadata": {},
   "source": [
    "                                     Name lenah Muema\n",
    "                            Init2Py-02 – Functions & Recursions\n"
   ]
  },
  {
   "cell_type": "code",
   "execution_count": null,
   "metadata": {},
   "outputs": [],
   "source": [
    "# no 1\n",
    "import  math\n",
    "x=float(input('enter a value of x :'))\n",
    "y=float(input('enter a value of y :'))\n",
    "z=math.sqrt(x**(2+y))/((1/x)+2*math.sin(y))\n",
    "print(z)\n"
   ]
  },
  {
   "cell_type": "markdown",
   "metadata": {},
   "source": [
    "2.Write a function that given two integers b and n (n is positive), calculates b\n",
    "n without using\n",
    "python’s power operator. Name this function ownpowerfn.py.\n",
    "PS: What if we do not specify that n has to be positive?"
   ]
  },
  {
   "cell_type": "code",
   "execution_count": 34,
   "metadata": {},
   "outputs": [],
   "source": [
    "def ownpowerful(b,n):\n",
    "    while n > 0:\n",
    "        p=b**n\n",
    "        return p\n",
    "\n"
   ]
  },
  {
   "cell_type": "code",
   "execution_count": 36,
   "metadata": {},
   "outputs": [
    {
     "data": {
      "text/plain": [
       "1024"
      ]
     },
     "execution_count": 36,
     "metadata": {},
     "output_type": "execute_result"
    }
   ],
   "source": [
    "ownpowerful(2,10)"
   ]
  },
  {
   "cell_type": "markdown",
   "metadata": {},
   "source": [
    "3.Write functions that do the following:\n",
    " a) Takes two arguments, and computes their arithmetic and geometric means. Name\n",
    "these functions arithmetic_mean and geometric_mean respectively."
   ]
  },
  {
   "cell_type": "code",
   "execution_count": 31,
   "metadata": {},
   "outputs": [
    {
     "name": "stdout",
     "output_type": "stream",
     "text": [
      "4.5\n",
      "4.47213595499958\n"
     ]
    }
   ],
   "source": [
    "from math import sqrt\n",
    "def arithmetic_mean(x,y):\n",
    "    averg=(x+y)/2\n",
    "print(averg)\n",
    "def geometric_mean():\n",
    "    geom=(sqrt(x*y))\n",
    "print(geom)\n",
    "   "
   ]
  },
  {
   "cell_type": "markdown",
   "metadata": {},
   "source": [
    "b.b) Converts degree Celsius to Fahrenheit and vice versa. Name these two functions\n",
    "celcius_to_fahrenheit and fahrenheit_to_celcius respectively."
   ]
  },
  {
   "cell_type": "code",
   "execution_count": 26,
   "metadata": {},
   "outputs": [
    {
     "name": "stdout",
     "output_type": "stream",
     "text": [
      "temperature in celsius57\n",
      "57.0 = 134.60000000000002 degree fahrenheit\n",
      "temperature in fahrenheit134\n",
      "134.0 = 56.666666666666664 degree celsius\n"
     ]
    }
   ],
   "source": [
    "def celcius_to_fahrenheit():\n",
    "    c = float(input(\"temperature in celsius\"))\n",
    "    F = 9/5*c +32 \n",
    "    print(c,\"=\",F, \"degree fahrenheit\")\n",
    "def fahrenheit_to_celcius():\n",
    "    f = float(input(\"temperature in fahrenheit\"))\n",
    "    C = (f-32)*5/9\n",
    "    print(f, \"=\", C,\"degree celsius\") \n",
    "celcius_to_fahrenheit()\n",
    "fahrenheit_to_celcius()"
   ]
  },
  {
   "cell_type": "markdown",
   "metadata": {},
   "source": [
    "c.c) Converts angle in degrees to radians and vice versa. Name these two functions\n",
    "degrees_to_radians and radians_to_degrees respectively."
   ]
  },
  {
   "cell_type": "code",
   "execution_count": 9,
   "metadata": {},
   "outputs": [
    {
     "name": "stdout",
     "output_type": "stream",
     "text": [
      "degree of angle90\n",
      "90.0 = 1.5707963267948966 radian\n"
     ]
    }
   ],
   "source": [
    "from math import pi\n",
    "def degrees_to_radians():\n",
    "    c = float(input(\"degree of angle\"))\n",
    "    R =  (pi/180)*c\n",
    "    print(c,\"=\",R, \"radian\")\n",
    "degrees_to_radians() "
   ]
  },
  {
   "cell_type": "code",
   "execution_count": 10,
   "metadata": {},
   "outputs": [
    {
     "name": "stdout",
     "output_type": "stream",
     "text": [
      "degree of radian1\n",
      "1.0 = 57.29577951308232 degre \n"
     ]
    }
   ],
   "source": [
    "def radians_to_degrees():\n",
    "    r = float(input(\"degree of radian\"))\n",
    "    C = (180/pi)*r\n",
    "    print(r, \"=\", C,\"degre \")\n",
    "\n",
    "radians_to_degrees()"
   ]
  },
  {
   "cell_type": "markdown",
   "metadata": {},
   "source": [
    "d) Computes the circumference and the area of a circle given the radius"
   ]
  },
  {
   "cell_type": "code",
   "execution_count": 11,
   "metadata": {},
   "outputs": [],
   "source": [
    "from math import pi \n",
    "def findArea():\n",
    "    r= float(input(\"enter radiusof a circle: \"))\n",
    "    area= pi * (r*r)\n",
    "    circumf= 2*pi*r;\n",
    "    print(\"Area of circle\", \"circumference:\", area,circumf)"
   ]
  },
  {
   "cell_type": "code",
   "execution_count": 12,
   "metadata": {},
   "outputs": [
    {
     "name": "stdout",
     "output_type": "stream",
     "text": [
      "enter radiusof a circle: 5\n",
      "Area of circle circumference: 78.53981633974483 31.41592653589793\n"
     ]
    }
   ],
   "source": [
    "findArea()"
   ]
  },
  {
   "cell_type": "markdown",
   "metadata": {},
   "source": [
    "4.Write functions that do the following:\n",
    "\n",
    "a) Given two numbers, compute their average and geometrical mean and prints them.\n",
    "Now write a program that performs this process 10 times, taking as input the means\n",
    "computed in the previous step. Name this function avggeom."
   ]
  },
  {
   "cell_type": "code",
   "execution_count": null,
   "metadata": {},
   "outputs": [
    {
     "name": "stdout",
     "output_type": "stream",
     "text": [
      "4.5 4.47213595499958\n"
     ]
    }
   ],
   "source": [
    "x=5\n",
    "y=4\n",
    "averg=(x+y)/2\n",
    "geom=(sqrt(x*y))\n",
    "print(averg, geom)\n",
    "(averg,geom)\n",
    "i=1\n",
    "while i <= 10:\n",
    "    avggeom =((averg+geom)/2),(sqrt(averg+geom))\n",
    "print(avggeom)\n"
   ]
  },
  {
   "cell_type": "markdown",
   "metadata": {},
   "source": [
    "b) Write a function that computes the distance between two points in the plane. Use\n",
    "it in another program that computes the perimeter and the area of a triangle, given\n",
    "three points in the plane. Name this function distancefn"
   ]
  },
  {
   "cell_type": "code",
   "execution_count": 22,
   "metadata": {},
   "outputs": [
    {
     "name": "stdout",
     "output_type": "stream",
     "text": [
      "point a :45\n",
      "point b :56\n",
      "point c :32\n",
      "point a :3\n",
      "point b :4\n",
      "point c :5\n",
      "distance between a and b : 11.05\n",
      "distance between a and b : 24.02\n",
      "distance between a and b : 13.15\n",
      "perimeter : 48.22 metre\n",
      "area : 17.62\n"
     ]
    }
   ],
   "source": [
    "from math import sqrt\n",
    "def distance_a_b():\n",
    "    x1 = int(input(\"point a :\"))\n",
    "    x2 = int(input(\"point b :\"))\n",
    "    x3 = int(input(\"point c :\"))\n",
    "    y1 = int(input(\"point a :\"))\n",
    "    y2 = int(input(\"point b :\"))\n",
    "    y3 = int(input(\"point c :\"))\n",
    "    ab = (x1 - x2)**2 +(y1-y2)**2\n",
    "    bc = (x2 - x3)**2 + (y2 - y3)**2\n",
    "    ac = (x1 - x3)**2 + (y1 - y3)**2 \n",
    "    Da = round(sqrt(ab),2)\n",
    "    Db = round(sqrt(bc),2)\n",
    "    Dc = round(sqrt(ac),2) \n",
    "    print(\"distance between a and b :\",Da)\n",
    "    print(\"distance between a and b :\",Db)\n",
    "    print(\"distance between a and b :\",Dc)\n",
    "    P = Da + Db + Dc\n",
    "    p = P/2\n",
    "    a = p*(p-Da)*(p-Db)*(p-Dc)\n",
    "    A = round(sqrt(a),2)\n",
    "    print(\"perimeter :\",P,\"metre\")\n",
    "    print(\"area :\",A)\n",
    "distance_a_b()  \n"
   ]
  },
  {
   "cell_type": "markdown",
   "metadata": {},
   "source": [
    "###### 5.Write a program that offers three options to the user:\n",
    "\n",
    "1.Evaluation of actorial\n",
    "\n",
    "2.Evaluation of a second degree equation\n",
    "\n",
    "3.Exit\n",
    "\n",
    "The user selects one of the options and then the program requests the data needed and\n",
    "calls the corresponding function to produce a result. The program then repeats the process\n",
    "until the user says he wants to exit. Name this function fact2nddeg."
   ]
  },
  {
   "cell_type": "code",
   "execution_count": 19,
   "metadata": {},
   "outputs": [],
   "source": [
    "def fact2nddeg():\n",
    "    n = int(input(\"enter an integer n:\"))\n",
    "    for i in range(1,n):\n",
    "        n *= i\n",
    "    print(n)\n",
    "    print(\"second degree equation\")\n",
    "    a = float(input(\"enter value of the coefficient a :\"))\n",
    "    b = float(input(\"enter value of the coefficient b :\"))\n",
    "    c = float(input(\"enter value of the coefficient c :\"))\n",
    "    D = b**2 -4*a*c\n",
    "    if D < 0:\n",
    "        print(\"equation has no solutions\")\n",
    "    elif D == 0:\n",
    "        X0 = -b/(2*a)\n",
    "        print(\"equation has a double solution: x =\", X0)\n",
    "    else:\n",
    "        d = sqrt(D)\n",
    "        X1 = (-b-d)/2*a\n",
    "        X2 = (-b+d)/2*a\n",
    "        print(\"equation has two solutions: X1=\",X1,\"and X2 =\",X2)\n"
   ]
  },
  {
   "cell_type": "markdown",
   "metadata": {},
   "source": [
    "6.For a fixed real number x and a natural number n, we can define recursively x\n",
    "n using the\n",
    "relations:\n",
    "x\n",
    "0 = 1 and xn+1 = x.xn\n",
    ".\n",
    "Write a function power(x,n) that implements the above recursion."
   ]
  },
  {
   "cell_type": "code",
   "execution_count": null,
   "metadata": {},
   "outputs": [],
   "source": [
    "def power():\n",
    "    a = int(input(\"real number :\"))\n",
    "    b = int(input(\"exponent :\"))\n",
    "    c =a\n",
    "    for i in range(n-1):\n",
    "        b*=x\n",
    "    print(x,\"power\",n,\"is\",c)\n",
    "power()"
   ]
  },
  {
   "cell_type": "markdown",
   "metadata": {},
   "source": [
    "7.Write code that implements the Fibonacci sequence. Test your program at 100."
   ]
  },
  {
   "cell_type": "code",
   "execution_count": null,
   "metadata": {},
   "outputs": [],
   "source": [
    "def fib_rec(n):\n",
    "    if n == 1:\n",
    "        return [0]\n",
    "    elif n == 2:\n",
    "        return [0,1]\n",
    "    else:\n",
    "        x = fib_rec(n-1)\n",
    "        # the new element the sum of the last two elements\n",
    "        x.append(sum(x[:-3:-1]))\n",
    "        return x\n",
    "x=fib_rec(100)\n",
    "print(x)"
   ]
  },
  {
   "cell_type": "code",
   "execution_count": null,
   "metadata": {},
   "outputs": [],
   "source": []
  }
 ],
 "metadata": {
  "kernelspec": {
   "display_name": "Python 3",
   "language": "python",
   "name": "python3"
  },
  "language_info": {
   "codemirror_mode": {
    "name": "ipython",
    "version": 3
   },
   "file_extension": ".py",
   "mimetype": "text/x-python",
   "name": "python",
   "nbconvert_exporter": "python",
   "pygments_lexer": "ipython3",
   "version": "3.7.3"
  }
 },
 "nbformat": 4,
 "nbformat_minor": 2
}
